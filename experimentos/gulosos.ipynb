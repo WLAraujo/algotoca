{
 "cells": [
  {
   "cell_type": "markdown",
   "metadata": {},
   "source": [
    "# Algoritmos Gulosos"
   ]
  },
  {
   "cell_type": "markdown",
   "metadata": {},
   "source": [
    "Algoritmos gulosos implementados:\n",
    "1. Algoritmo Guloso\n",
    "2. Algoritmo DSatur\n",
    "3. Algoritmo RLF"
   ]
  },
  {
   "cell_type": "markdown",
   "metadata": {},
   "source": [
    "Importando pacotes necessários para a atividade."
   ]
  },
  {
   "cell_type": "code",
   "execution_count": 1,
   "metadata": {},
   "outputs": [],
   "source": [
    "from graphcol.gulosos import Gulosos\n",
    "import igraph as ig\n",
    "import numpy as np\n",
    "import pandas as pd\n",
    "import plotly.express as px\n",
    "import glob"
   ]
  },
  {
   "cell_type": "markdown",
   "metadata": {},
   "source": [
    "Listando grafos que serão usados"
   ]
  },
  {
   "cell_type": "code",
   "execution_count": 2,
   "metadata": {},
   "outputs": [],
   "source": [
    "instancias = glob.glob(\"./instancias/*.col\")"
   ]
  },
  {
   "cell_type": "markdown",
   "metadata": {},
   "source": [
    "Criando dataframe para armazenar resultados com as seguintes colunas:\n",
    "* **algoritmo** - A linha apresenta o resultado referente a qual algoritmo\n",
    "* **instancia** - A linha apresenta o resultado referente a qual instância\n",
    "* **vertices** - Quantos vértices tem a instância\n",
    "* **arestas** - Quantas arestas tem a instância\n",
    "* **otimo** - Se a instância possuí valor ótimo apresenta esse valor se não devolve 0\n",
    "* **resultado** - Quantidade de cores que o algoritmo devolveu na solução final para essa instância"
   ]
  },
  {
   "cell_type": "code",
   "execution_count": 23,
   "metadata": {},
   "outputs": [],
   "source": [
    "resultados = pd.DataFrame({\"algoritmo\" : pd.Series(dtype='str'),\n",
    "                           \"instancia\" : pd.Series(dtype='str'),\n",
    "                           \"vertices\" : pd.Series(dtype='int'),\n",
    "                           \"arestas\" : pd.Series(dtype='int'),\n",
    "                           \"otimo\" : pd.Series(dtype='int'),\n",
    "                           \"resultado\" : pd.Series(dtype='int'),\n",
    "                           })"
   ]
  },
  {
   "cell_type": "markdown",
   "metadata": {},
   "source": [
    "Criando pipeline iterativo através de função que será chamada para criar colorações usando os três algoritmos gulosos implementados"
   ]
  },
  {
   "cell_type": "code",
   "execution_count": 24,
   "metadata": {},
   "outputs": [],
   "source": [
    "def pipeline_gulosos(grafo, instancia, vertices, arestas):\n",
    "    linhas_instancia = []\n",
    "    linha_guloso = [\"guloso\", instancia, vertices, arestas, 0, len(set(Gulosos.guloso(grafo).vs['cor']))]\n",
    "    linha_dsatur = [\"dsatur\", instancia, vertices, arestas, 0, len(set(Gulosos.dsatur(grafo).vs['cor']))]\n",
    "    linha_rlf = [\"rlf\", instancia, vertices, arestas, 0, len(set(Gulosos.rlf(grafo).vs['cor']))]\n",
    "    linhas_instancia.append(linha_guloso)\n",
    "    linhas_instancia.append(linha_dsatur)\n",
    "    linhas_instancia.append(linha_rlf)\n",
    "    return linhas_instancia"
   ]
  },
  {
   "cell_type": "markdown",
   "metadata": {},
   "source": [
    "Criando função que vai transformar arquivo .col em um objeto graph do igraph"
   ]
  },
  {
   "cell_type": "code",
   "execution_count": 30,
   "metadata": {},
   "outputs": [],
   "source": [
    "def criar_grafo(arquivo):\n",
    "    try:\n",
    "        linhas = []\n",
    "        with open(f'{arquivo}') as f:\n",
    "            linhas = f.readlines()\n",
    "        lista_arestas = []\n",
    "        for linha in linhas:\n",
    "            if linha[0] == 'p':\n",
    "                nos_arestas = tuple(linha[7:-1].split(\" \"))\n",
    "                n_vertices = int(nos_arestas[0])\n",
    "                m_arestas = int(nos_arestas[1])\n",
    "            if linha[0] == 'e':\n",
    "                aresta_strings = linha[2:-1].split(\" \")\n",
    "                lista_arestas.append(tuple([(int(v)-1) for v in aresta_strings]))\n",
    "        grafo = ig.Graph()\n",
    "        grafo.add_vertices(n_vertices)\n",
    "        grafo.add_edges(lista_arestas)\n",
    "        grafo.simplify(multiple=True, loops=True)\n",
    "        return grafo\n",
    "    except:\n",
    "        print(f\"Arquivo {arquivo} no formato errado\")\n",
    "        return None"
   ]
  },
  {
   "cell_type": "markdown",
   "metadata": {},
   "source": [
    "Preenchendo dataframe com dados"
   ]
  },
  {
   "cell_type": "code",
   "execution_count": 37,
   "metadata": {},
   "outputs": [
    {
     "name": "stdout",
     "output_type": "stream",
     "text": [
      "Instância games120 processada\n",
      "Instância zeroin.i.2 processada\n",
      "Instância myciel7 processada\n",
      "Instância zeroin.i.1 processada\n",
      "Instância myciel6 processada\n",
      "Instância queen8_8 processada\n",
      "Instância le450_25d processada\n",
      "Instância queen14_14 processada\n",
      "Instância miles250 processada\n",
      "Instância mulsol.i.3 processada\n",
      "Instância queen5_5 processada\n",
      "Instância anna processada\n",
      "Instância le450_5a processada\n",
      "Instância fpsol2.i.2 processada\n",
      "Instância le450_5c processada\n",
      "Instância queen13_13 processada\n",
      "Instância mulsol.i.5 processada\n",
      "Instância queen10_10 processada\n",
      "Instância david processada\n",
      "Instância huck processada\n"
     ]
    },
    {
     "ename": "KeyboardInterrupt",
     "evalue": "",
     "output_type": "error",
     "traceback": [
      "\u001b[0;31m---------------------------------------------------------------------------\u001b[0m",
      "\u001b[0;31mKeyboardInterrupt\u001b[0m                         Traceback (most recent call last)",
      "Cell \u001b[0;32mIn [37], line 4\u001b[0m\n\u001b[1;32m      2\u001b[0m grafo \u001b[38;5;241m=\u001b[39m criar_grafo(instancia)\n\u001b[1;32m      3\u001b[0m \u001b[38;5;28;01mif\u001b[39;00m grafo \u001b[38;5;129;01mis\u001b[39;00m \u001b[38;5;129;01mnot\u001b[39;00m \u001b[38;5;28;01mNone\u001b[39;00m:\n\u001b[0;32m----> 4\u001b[0m     linhas_instancia \u001b[38;5;241m=\u001b[39m \u001b[43mpipeline_gulosos\u001b[49m\u001b[43m(\u001b[49m\u001b[43mgrafo\u001b[49m\u001b[43m,\u001b[49m\u001b[43m \u001b[49m\u001b[43minstancia\u001b[49m\u001b[43m[\u001b[49m\u001b[38;5;241;43m13\u001b[39;49m\u001b[43m:\u001b[49m\u001b[38;5;241;43m-\u001b[39;49m\u001b[38;5;241;43m4\u001b[39;49m\u001b[43m]\u001b[49m\u001b[43m,\u001b[49m\u001b[43m \u001b[49m\u001b[43mgrafo\u001b[49m\u001b[38;5;241;43m.\u001b[39;49m\u001b[43mvcount\u001b[49m\u001b[43m(\u001b[49m\u001b[43m)\u001b[49m\u001b[43m,\u001b[49m\u001b[43m \u001b[49m\u001b[43mgrafo\u001b[49m\u001b[38;5;241;43m.\u001b[39;49m\u001b[43mecount\u001b[49m\u001b[43m(\u001b[49m\u001b[43m)\u001b[49m\u001b[43m)\u001b[49m\n\u001b[1;32m      5\u001b[0m     resultados \u001b[38;5;241m=\u001b[39m pd\u001b[38;5;241m.\u001b[39mconcat([resultados, pd\u001b[38;5;241m.\u001b[39mDataFrame(linhas_instancia,\n\u001b[1;32m      6\u001b[0m                                                      columns \u001b[38;5;241m=\u001b[39m [\u001b[38;5;124m'\u001b[39m\u001b[38;5;124malgoritmo\u001b[39m\u001b[38;5;124m'\u001b[39m, \u001b[38;5;124m'\u001b[39m\u001b[38;5;124minstancia\u001b[39m\u001b[38;5;124m'\u001b[39m, \u001b[38;5;124m'\u001b[39m\u001b[38;5;124mvertices\u001b[39m\u001b[38;5;124m'\u001b[39m, \u001b[38;5;124m'\u001b[39m\u001b[38;5;124marestas\u001b[39m\u001b[38;5;124m'\u001b[39m, \u001b[38;5;124m'\u001b[39m\u001b[38;5;124motimo\u001b[39m\u001b[38;5;124m'\u001b[39m, \u001b[38;5;124m'\u001b[39m\u001b[38;5;124mresultado\u001b[39m\u001b[38;5;124m'\u001b[39m])])\n\u001b[1;32m      7\u001b[0m \u001b[38;5;28mprint\u001b[39m(\u001b[38;5;124mf\u001b[39m\u001b[38;5;124m'\u001b[39m\u001b[38;5;124mInstância \u001b[39m\u001b[38;5;132;01m{\u001b[39;00minstancia[\u001b[38;5;241m13\u001b[39m:\u001b[38;5;241m-\u001b[39m\u001b[38;5;241m4\u001b[39m]\u001b[38;5;132;01m}\u001b[39;00m\u001b[38;5;124m processada\u001b[39m\u001b[38;5;124m'\u001b[39m)\n",
      "Cell \u001b[0;32mIn [24], line 3\u001b[0m, in \u001b[0;36mpipeline_gulosos\u001b[0;34m(grafo, instancia, vertices, arestas)\u001b[0m\n\u001b[1;32m      1\u001b[0m \u001b[38;5;28;01mdef\u001b[39;00m \u001b[38;5;21mpipeline_gulosos\u001b[39m(grafo, instancia, vertices, arestas):\n\u001b[1;32m      2\u001b[0m     linhas_instancia \u001b[38;5;241m=\u001b[39m []\n\u001b[0;32m----> 3\u001b[0m     linha_guloso \u001b[38;5;241m=\u001b[39m [\u001b[38;5;124m\"\u001b[39m\u001b[38;5;124mguloso\u001b[39m\u001b[38;5;124m\"\u001b[39m, instancia, vertices, arestas, \u001b[38;5;241m0\u001b[39m, \u001b[38;5;28mlen\u001b[39m(\u001b[38;5;28mset\u001b[39m(\u001b[43mGulosos\u001b[49m\u001b[38;5;241;43m.\u001b[39;49m\u001b[43mguloso\u001b[49m\u001b[43m(\u001b[49m\u001b[43mgrafo\u001b[49m\u001b[43m)\u001b[49m\u001b[38;5;241m.\u001b[39mvs[\u001b[38;5;124m'\u001b[39m\u001b[38;5;124mcor\u001b[39m\u001b[38;5;124m'\u001b[39m]))]\n\u001b[1;32m      4\u001b[0m     linha_dsatur \u001b[38;5;241m=\u001b[39m [\u001b[38;5;124m\"\u001b[39m\u001b[38;5;124mdsatur\u001b[39m\u001b[38;5;124m\"\u001b[39m, instancia, vertices, arestas, \u001b[38;5;241m0\u001b[39m, \u001b[38;5;28mlen\u001b[39m(\u001b[38;5;28mset\u001b[39m(Gulosos\u001b[38;5;241m.\u001b[39mdsatur(grafo)\u001b[38;5;241m.\u001b[39mvs[\u001b[38;5;124m'\u001b[39m\u001b[38;5;124mcor\u001b[39m\u001b[38;5;124m'\u001b[39m]))]\n\u001b[1;32m      5\u001b[0m     linha_rlf \u001b[38;5;241m=\u001b[39m [\u001b[38;5;124m\"\u001b[39m\u001b[38;5;124mrlf\u001b[39m\u001b[38;5;124m\"\u001b[39m, instancia, vertices, arestas, \u001b[38;5;241m0\u001b[39m, \u001b[38;5;28mlen\u001b[39m(\u001b[38;5;28mset\u001b[39m(Gulosos\u001b[38;5;241m.\u001b[39mrlf(grafo)\u001b[38;5;241m.\u001b[39mvs[\u001b[38;5;124m'\u001b[39m\u001b[38;5;124mcor\u001b[39m\u001b[38;5;124m'\u001b[39m]))]\n",
      "File \u001b[0;32m/usr/lib/python3.9/site-packages/graphcol/gulosos.py:47\u001b[0m, in \u001b[0;36mGulosos.guloso\u001b[0;34m(grafo, ordem)\u001b[0m\n\u001b[1;32m     45\u001b[0m vertice_colorido \u001b[38;5;241m=\u001b[39m \u001b[38;5;28;01mFalse\u001b[39;00m\n\u001b[1;32m     46\u001b[0m \u001b[38;5;28;01mfor\u001b[39;00m cor \u001b[38;5;129;01min\u001b[39;00m cores:\n\u001b[0;32m---> 47\u001b[0m     \u001b[38;5;28;01mif\u001b[39;00m \u001b[43mFuncAux\u001b[49m\u001b[38;5;241;43m.\u001b[39;49m\u001b[43mconjunto_independente\u001b[49m\u001b[43m(\u001b[49m\u001b[43mlista_arestas\u001b[49m\u001b[43m,\u001b[49m\u001b[43m \u001b[49m\u001b[43m(\u001b[49m\u001b[43mcor\u001b[49m\u001b[38;5;241;43m.\u001b[39;49m\u001b[43munion\u001b[49m\u001b[43m(\u001b[49m\u001b[43m{\u001b[49m\u001b[43mvertice\u001b[49m\u001b[43m}\u001b[49m\u001b[43m)\u001b[49m\u001b[43m)\u001b[49m\u001b[43m)\u001b[49m:\n\u001b[1;32m     48\u001b[0m         cor\u001b[38;5;241m.\u001b[39madd(vertice)\n\u001b[1;32m     49\u001b[0m         grafo\u001b[38;5;241m.\u001b[39mvs[vertice][\u001b[38;5;124m'\u001b[39m\u001b[38;5;124mcor\u001b[39m\u001b[38;5;124m'\u001b[39m] \u001b[38;5;241m=\u001b[39m cores\u001b[38;5;241m.\u001b[39mindex(cor)\n",
      "File \u001b[0;32m/usr/lib/python3.9/site-packages/graphcol/gulosos.py:156\u001b[0m, in \u001b[0;36mFuncAux.conjunto_independente\u001b[0;34m(lista_arestas, subconjunto_vertices)\u001b[0m\n\u001b[1;32m    140\u001b[0m \u001b[38;5;124;03m'''\u001b[39;00m\n\u001b[1;32m    141\u001b[0m \u001b[38;5;124;03mFunção que pega a lista de arestas de um grafo e um subconjunto de seus vértices e\u001b[39;00m\n\u001b[1;32m    142\u001b[0m \u001b[38;5;124;03m verifica se esse subconjunto é conjunto independente de vértices.\u001b[39;00m\n\u001b[0;32m   (...)\u001b[0m\n\u001b[1;32m    153\u001b[0m \u001b[38;5;124;03m retorna False se não for\u001b[39;00m\n\u001b[1;32m    154\u001b[0m \u001b[38;5;124;03m'''\u001b[39;00m\n\u001b[1;32m    155\u001b[0m \u001b[38;5;28;01mfor\u001b[39;00m vertice_a \u001b[38;5;129;01min\u001b[39;00m subconjunto_vertices:\n\u001b[0;32m--> 156\u001b[0m     \u001b[38;5;28;01mfor\u001b[39;00m vertice_b \u001b[38;5;129;01min\u001b[39;00m subconjunto_vertices:\n\u001b[1;32m    157\u001b[0m         \u001b[38;5;28;01mif\u001b[39;00m ((vertice_a, vertice_b) \u001b[38;5;129;01mor\u001b[39;00m (vertice_b, vertice_a)) \u001b[38;5;129;01min\u001b[39;00m lista_arestas:\n\u001b[1;32m    158\u001b[0m             \u001b[38;5;28;01mreturn\u001b[39;00m \u001b[38;5;28;01mFalse\u001b[39;00m\n",
      "\u001b[0;31mKeyboardInterrupt\u001b[0m: "
     ]
    }
   ],
   "source": [
    "for instancia in instancias:\n",
    "    grafo = criar_grafo(instancia)\n",
    "    if grafo is not None:\n",
    "        linhas_instancia = pipeline_gulosos(grafo, instancia[13:-4], grafo.vcount(), grafo.ecount())\n",
    "        resultados = pd.concat([resultados, pd.DataFrame(linhas_instancia,\n",
    "                                                         columns = ['algoritmo', 'instancia', 'vertices', 'arestas', 'otimo', 'resultado'])])\n",
    "    print(f'Instância {instancia[13:-4]} processada')\n",
    "    resultados.to_csv('resultados_gulosos.csv', encoding='utf-8')"
   ]
  },
  {
   "cell_type": "code",
   "execution_count": 35,
   "metadata": {},
   "outputs": [],
   "source": [
    "instancias = instancias[2:]"
   ]
  },
  {
   "cell_type": "code",
   "execution_count": 36,
   "metadata": {},
   "outputs": [
    {
     "data": {
      "text/plain": [
       "['./instancias/games120.col',\n",
       " './instancias/zeroin.i.2.col',\n",
       " './instancias/myciel7.col',\n",
       " './instancias/zeroin.i.1.col',\n",
       " './instancias/myciel6.col',\n",
       " './instancias/queen8_8.col',\n",
       " './instancias/le450_25d.col',\n",
       " './instancias/queen14_14.col',\n",
       " './instancias/miles250.col',\n",
       " './instancias/mulsol.i.3.col',\n",
       " './instancias/queen5_5.col',\n",
       " './instancias/anna.col',\n",
       " './instancias/le450_5a.col',\n",
       " './instancias/fpsol2.i.2.col',\n",
       " './instancias/le450_5c.col',\n",
       " './instancias/queen13_13.col',\n",
       " './instancias/mulsol.i.5.col',\n",
       " './instancias/queen10_10.col',\n",
       " './instancias/david.col',\n",
       " './instancias/huck.col',\n",
       " './instancias/inithx.i.1.col',\n",
       " './instancias/queen11_11.col',\n",
       " './instancias/miles1500.col',\n",
       " './instancias/queen15_15.col',\n",
       " './instancias/le450_15d.col',\n",
       " './instancias/school1.col',\n",
       " './instancias/jean.col',\n",
       " './instancias/le450_5d.col',\n",
       " './instancias/miles1000.col',\n",
       " './instancias/le450_15b.col',\n",
       " './instancias/inithx.i.2.col',\n",
       " './instancias/queen6_6.col',\n",
       " './instancias/miles750.col',\n",
       " './instancias/queen16_16.col',\n",
       " './instancias/mulsol.i.4.col',\n",
       " './instancias/myciel4.col',\n",
       " './instancias/le450_15a.col',\n",
       " './instancias/le450_25b.col',\n",
       " './instancias/fpsol2.i.3.col',\n",
       " './instancias/myciel3.col',\n",
       " './instancias/mulsol.i.1.col',\n",
       " './instancias/fpsol2.i.1.col',\n",
       " './instancias/le450_15c.col',\n",
       " './instancias/homer.col',\n",
       " './instancias/school1_nsh.col',\n",
       " './instancias/zeroin.i.3.col',\n",
       " './instancias/queen7_7.col',\n",
       " './instancias/inithx.i.3.col']"
      ]
     },
     "execution_count": 36,
     "metadata": {},
     "output_type": "execute_result"
    }
   ],
   "source": [
    "instancias"
   ]
  },
  {
   "cell_type": "code",
   "execution_count": null,
   "metadata": {},
   "outputs": [],
   "source": []
  }
 ],
 "metadata": {
  "kernelspec": {
   "display_name": "experimentos_graphcol",
   "language": "python",
   "name": "experimentos_graphcol"
  },
  "language_info": {
   "codemirror_mode": {
    "name": "ipython",
    "version": 3
   },
   "file_extension": ".py",
   "mimetype": "text/x-python",
   "name": "python",
   "nbconvert_exporter": "python",
   "pygments_lexer": "ipython3",
   "version": "3.9.2"
  },
  "vscode": {
   "interpreter": {
    "hash": "916dbcbb3f70747c44a77c7bcd40155683ae19c65e1c03b4aa3499c5328201f1"
   }
  }
 },
 "nbformat": 4,
 "nbformat_minor": 4
}
